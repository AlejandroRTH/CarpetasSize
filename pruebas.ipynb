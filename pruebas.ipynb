{
 "cells": [
  {
   "cell_type": "markdown",
   "metadata": {},
   "source": [
    "# Funcion MAP"
   ]
  },
  {
   "cell_type": "code",
   "execution_count": 9,
   "metadata": {},
   "outputs": [
    {
     "data": {
      "text/plain": [
       "['0001', '0002', '0000']"
      ]
     },
     "execution_count": 9,
     "metadata": {},
     "output_type": "execute_result"
    }
   ],
   "source": [
    "def AgregoCero(x):\n",
    "    return(f\"000{x}\")\n",
    "a = \"120\"\n",
    "salida = list(map(AgregoCero,a))\n",
    "\n",
    "salida"
   ]
  },
  {
   "cell_type": "code",
   "execution_count": 59,
   "metadata": {},
   "outputs": [
    {
     "name": "stdout",
     "output_type": "stream",
     "text": [
      "'C:\\\\windows\\WinSxS'\n"
     ]
    }
   ],
   "source": [
    "import os\n",
    "def get_folder_size(path):\n",
    "    total_size = 0\n",
    "    for dirpath, dirnames, filenames in os.walk(path):\n",
    "        for f in filenames:\n",
    "            fp = os.path.join(dirpath, f)\n",
    "            if os.path.isfile(fp):\n",
    "                total_size += os.path.getsize(fp)\n",
    "    return total_size\n",
    "\n",
    "\n",
    "root_folder = r'C:\\\\windows'\n",
    "root_subfolders = [os.path.join(root_folder, d) for d in os.listdir(root_folder) if os.path.isdir(os.path.join(root_folder, d))]\n",
    "large_folders = []\n",
    "for folder in root_subfolders:\n",
    "    folder_size = get_folder_size(folder)\n",
    "    if folder_size >= 10 * 1024 * 1024 * 1024:\n",
    "        large_folders.append(folder)\n",
    "        print(f\"'{folder}'\")"
   ]
  },
  {
   "cell_type": "code",
   "execution_count": 82,
   "metadata": {},
   "outputs": [
    {
     "name": "stdout",
     "output_type": "stream",
     "text": [
      "    columna1  columna2  columna3  columna4\n",
      "0          0         0         0         0\n",
      "1          1         9         1         1\n",
      "2          2        18         4         8\n",
      "3          3        27         9        27\n",
      "4          4        36        16        64\n",
      "5          5        45        25       125\n",
      "6          6        54        36       216\n",
      "7          7        63        49       343\n",
      "8          8        72        64       512\n",
      "9          9        81        81       729\n",
      "10        10        90       100      1000\n"
     ]
    }
   ],
   "source": [
    "import pandas as pd\n",
    "num = [0,1,2,3,4,5,6,7,8,9,10]\n",
    "df = pd.DataFrame(num,index=None,columns=[\"columna1\"])\n",
    "df[\"columna2\"] = df[\"columna1\"] * 9\n",
    "df[\"columna3\"] = df[\"columna1\"] ** 2\n",
    "df[\"columna4\"] = df[\"columna1\"] ** 3\n",
    "\n",
    "print(df)"
   ]
  }
 ],
 "metadata": {
  "kernelspec": {
   "display_name": "Python 3",
   "language": "python",
   "name": "python3"
  },
  "language_info": {
   "codemirror_mode": {
    "name": "ipython",
    "version": 3
   },
   "file_extension": ".py",
   "mimetype": "text/x-python",
   "name": "python",
   "nbconvert_exporter": "python",
   "pygments_lexer": "ipython3",
   "version": "3.11.3"
  }
 },
 "nbformat": 4,
 "nbformat_minor": 2
}
